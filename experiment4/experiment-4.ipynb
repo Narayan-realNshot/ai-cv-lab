{
 "cells": [
  {
   "cell_type": "code",
   "execution_count": 1,
   "id": "61c4db0b-2c52-43a9-9316-fb962607f97c",
   "metadata": {},
   "outputs": [],
   "source": [
    "# Loading all the required libraries\n",
    "import folium as flm\n",
    "from folium import plugins\n",
    "import pandas as pd\n",
    "import json\n",
    "import requests"
   ]
  },
  {
   "cell_type": "code",
   "execution_count": 4,
   "id": "ca228113-ad7d-4277-937a-3951ef82ea0d",
   "metadata": {},
   "outputs": [],
   "source": [
    "# Loading Geo-JSON data\n",
    "# This data consists of co-ordinates which is used to plot the map\n",
    "with open(r'Indian_States.json') as f:\n",
    "    geojson_states = json.load(f)"
   ]
  },
  {
   "cell_type": "code",
   "execution_count": 6,
   "id": "c21702e8-89c3-4780-9e74-ce285d4db7bd",
   "metadata": {},
   "outputs": [],
   "source": [
    "# Assigning name of states to a key called 'id'\n",
    "for i in geojson_states['features']:\n",
    "    i['id'] = i['properties']['NAME_1']"
   ]
  },
  {
   "cell_type": "code",
   "execution_count": 8,
   "id": "61032cb8-aa7c-46a8-b203-7bc386402d5a",
   "metadata": {},
   "outputs": [],
   "source": [
    "# Step 1: Load COVID-19 Data from Local JSON File\n",
    "with open(r'data.json') as file:\n",
    "    covid_current = json.load(file)"
   ]
  },
  {
   "cell_type": "code",
   "execution_count": 11,
   "id": "e035986a-124c-429c-9feb-12d893bf5c73",
   "metadata": {},
   "outputs": [],
   "source": [
    "# Convert JSON into pandas DataFrame\n",
    "import pandas as pd\n",
    "# Create a list of dictionaries instead of using append()\n",
    "data_list = []\n",
    "for state_data in covid_current[\"statewise\"][1:]:\n",
    "    if state_data[\"state\"] != \"State Unassigned\":\n",
    "        data_list.append({\n",
    "            \"State\": state_data[\"state\"],\n",
    "            \"Total Cases\": int(state_data[\"confirmed\"]),\n",
    "            \"Active Cases\": int(state_data[\"active\"]),\n",
    "            \"Deaths\": int(state_data[\"deaths\"])\n",
    "        })\n",
    "\n",
    "df_covid = pd.DataFrame(data_list)"
   ]
  },
  {
   "cell_type": "code",
   "execution_count": 13,
   "id": "8133c37f-24b7-4be6-a9d6-5b95565bb63b",
   "metadata": {},
   "outputs": [],
   "source": [
    "df_covid.rename(columns={\n",
    "    \"Total Cases\": \"total_case\",\n",
    "    \"Active Cases\": \"active_case\",\n",
    "    \"Deaths\":\"total_deaths\"\n",
    "}, inplace = True)"
   ]
  },
  {
   "cell_type": "code",
   "execution_count": 20,
   "id": "5c1ec537-401e-4ad8-9831-ef03cab48fd8",
   "metadata": {},
   "outputs": [
    {
     "name": "stdout",
     "output_type": "stream",
     "text": [
      "States present in GeoJSON but missing in DataFrame: {'Dadra and Nagar Haveli'}\n"
     ]
    }
   ],
   "source": [
    "#Verify and correct state name mismatches\n",
    "# Get list of state from heoJSON\n",
    "geojson_states_names =[feature[\"properties\"][\"NAME_1\"] for feature in geojson_states[\"features\"]]\n",
    "\n",
    "#Get List of states from DataFrame\n",
    "df_covid_states = df_covid[\"State\"].unique()\n",
    "\n",
    "#Find missing states\n",
    "missing_states = set(geojson_states_names) - set(df_covid_states)\n",
    "print(\"States present in GeoJSON but missing in DataFrame:\",missing_states)\n",
    "\n",
    "#Fix known mismatches manually\n",
    "state_name_corrections = {\n",
    "    \"Dadra and Nagar Haveli and Daman and Diu\": \"Dadra and Nagar Haveli\",\n",
    "    \"NCT of Delhi\": \"Delhi\"\n",
    "}\n",
    "\n",
    "df_covid[\"State\"] = df_covid[\"State\"].replace(state_name_corrections)"
   ]
  },
  {
   "cell_type": "code",
   "execution_count": null,
   "id": "afb8b055-055a-445f-bc23-b265b19a1ca6",
   "metadata": {},
   "outputs": [],
   "source": []
  }
 ],
 "metadata": {
  "kernelspec": {
   "display_name": "Python 3 (ipykernel)",
   "language": "python",
   "name": "python3"
  },
  "language_info": {
   "codemirror_mode": {
    "name": "ipython",
    "version": 3
   },
   "file_extension": ".py",
   "mimetype": "text/x-python",
   "name": "python",
   "nbconvert_exporter": "python",
   "pygments_lexer": "ipython3",
   "version": "3.13.2"
  }
 },
 "nbformat": 4,
 "nbformat_minor": 5
}
