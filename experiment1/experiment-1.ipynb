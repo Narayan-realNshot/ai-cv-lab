{
 "cells": [
  {
   "cell_type": "code",
   "execution_count": 3,
   "id": "e3b88efe-376f-4aaf-a528-cc77b552517f",
   "metadata": {},
   "outputs": [
    {
     "name": "stdout",
     "output_type": "stream",
     "text": [
      "The Given Training Data Set\n",
      "\n",
      "['Sunny', 'Warm', 'Normal', 'Strong', 'Warm', 'Same', 'Yes']\n",
      "['Sunny', 'Warm', 'High', 'Strong', 'Warm', 'Same', 'Yes']\n",
      "['Rainy', 'Cold', 'High', 'Strong', 'Warm', 'Change', 'No']\n",
      "['Sunny', 'Warm', 'High', 'Strong', 'Cool', 'Change', 'Yes']\n",
      "\n",
      "\n",
      "The Initial value of the hypothesis:\n",
      "['0', '0', '0', '0', '0', '0']\n",
      "\n",
      "\n",
      "Find-S: Finding a maximally specific hypothesis\n",
      "\n",
      "For Training Instance No: 1 \n",
      "The Hypothesis is: ['Sunny', 'Warm', '?', 'Strong', 'Warm', 'Same']\n",
      "For Training Instance No: 2 \n",
      "The Hypothesis is: ['Sunny', 'Warm', '?', 'Strong', 'Warm', 'Same']\n",
      "For Training Instance No: 3 \n",
      "The Hypothesis is: ['Sunny', 'Warm', '?', 'Strong', '?', '?']\n",
      "\n",
      "\n",
      "The Maximally Specific Hypothesis is:\n",
      "['Sunny', 'Warm', '?', 'Strong', '?', '?']\n"
     ]
    }
   ],
   "source": [
    "import csv\n",
    "num_att = 6\n",
    "a = []\n",
    "print(\"The Given Training Data Set\\n\")\n",
    "filename = \"ws.csv\"\n",
    "\n",
    "with open(filename, \"r\") as csvfile:\n",
    "    reader = csv.reader(csvfile)\n",
    "    for row in reader:\n",
    "        a.append(row)\n",
    "        print(row)\n",
    "\n",
    "print(\"\\n\")\n",
    "print(\"The Initial value of the hypothesis:\")\n",
    "hypothesis = ['0'] * num_att\n",
    "print(hypothesis)\n",
    "\n",
    "for j in range(0, num_att):\n",
    "    hypothesis[j] = a[0][j]\n",
    "\n",
    "print(\"\\n\")\n",
    "print(\"Find-S: Finding a maximally specific hypothesis\\n\")\n",
    "\n",
    "for i in range(1, len(a)):  \n",
    "    if a[i][num_att] == 'Yes':\n",
    "        for j in range(0, num_att):\n",
    "            if a[i][j] != hypothesis[j]:  \n",
    "                hypothesis[j] = '?'\n",
    "    print(\"For Training Instance No: {0} \\nThe Hypothesis is:\".format(i), hypothesis)\n",
    "\n",
    "print(\"\\n\")\n",
    "print(\"The Maximally Specific Hypothesis is:\")\n",
    "print(hypothesis)"
   ]
  },
  {
   "cell_type": "code",
   "execution_count": null,
   "id": "e29ede23-efa1-41c0-9aa9-4fb130f7f221",
   "metadata": {},
   "outputs": [],
   "source": []
  }
 ],
 "metadata": {
  "kernelspec": {
   "display_name": "Python 3 (ipykernel)",
   "language": "python",
   "name": "python3"
  },
  "language_info": {
   "codemirror_mode": {
    "name": "ipython",
    "version": 3
   },
   "file_extension": ".py",
   "mimetype": "text/x-python",
   "name": "python",
   "nbconvert_exporter": "python",
   "pygments_lexer": "ipython3",
   "version": "3.13.1"
  }
 },
 "nbformat": 4,
 "nbformat_minor": 5
}
